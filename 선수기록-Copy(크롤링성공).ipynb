{
 "cells": [
  {
   "cell_type": "code",
   "execution_count": 3,
   "id": "ef26b3fc-3116-4c7e-ad74-de64ec95dfa5",
   "metadata": {},
   "outputs": [],
   "source": [
    "from selenium import webdriver\n",
    "from selenium.webdriver.common.by import By\n",
    "from bs4 import BeautifulSoup\n",
    "from urllib.request import urlopen\n",
    "from selenium.webdriver.common.keys import Keys\n",
    "import time\n",
    "import requests\n",
    "import pandas as pd\n",
    "from selenium.webdriver.chrome.service import Service\n",
    "from selenium.webdriver.chrome.options import Options\n",
    "from selenium.webdriver.common.action_chains import ActionChains\n",
    "from selenium.webdriver.support import expected_conditions as EC"
   ]
  },
  {
   "cell_type": "code",
   "execution_count": 4,
   "id": "8906a584-8a9e-443a-bb19-0fd37267e7c3",
   "metadata": {},
   "outputs": [],
   "source": [
    "from selenium.webdriver.support.ui import WebDriverWait\n",
    "\n",
    "url = 'https://kovo.co.kr/KOVO/stats/player-record'\n",
    "\n",
    "driver = webdriver.Chrome()\n",
    "\n",
    "driver.get(url)\n",
    "\n",
    "# 명시적 대기 설정 (최대 10초 대기)\n",
    "wait = WebDriverWait(driver, 10)\n",
    "\n",
    "click_1 = wait.until(EC.element_to_be_clickable((By.CSS_SELECTOR, \"label:nth-child(2)\")))\n",
    "click_1.click()\n",
    "time.sleep(1)\n",
    "#women = div.find_elements(By.CSS_SELECTOR, \"span.ant-radio-button ant-radio-button-checked\") ant-radio-button-wrapper.ant-radio-button-wrapper-checked css-68b5wn\n",
    "#women.click()\n"
   ]
  },
  {
   "cell_type": "code",
   "execution_count": 5,
   "id": "891efc69-e2e4-4faa-a4fe-e1808ce26068",
   "metadata": {},
   "outputs": [],
   "source": [
    "time.sleep(5)\n",
    "# 시즌 클릭하기\n",
    "click_2 = driver.find_elements(By.CSS_SELECTOR,\"span.ant-select-selection-item\")\n",
    "click_2[0].click()\n",
    "time.sleep(1)\n",
    "\n",
    "# ActionChains 객체 생성\n",
    "actions = ActionChains(driver)\n",
    "    \n",
    "# 방향키 입력 (예: 아래 방향키)\n",
    "actions.send_keys(Keys.ARROW_DOWN).perform()\n",
    "time.sleep(1)\n",
    "    \n",
    "# 엔터키 입력\n",
    "actions.send_keys(Keys.ENTER).perform()\n",
    "time.sleep(1)\n",
    "\n",
    "# 기록보기 클릭\n",
    "# 특정 <span> 요소를 찾기\n",
    "span_element = WebDriverWait(driver, 10).until(\n",
    "        EC.presence_of_element_located((By.XPATH, \"//span[text()='기록 보기']\"))\n",
    "    )\n",
    "\n",
    "# 클릭하기\n",
    "span_element.click()"
   ]
  },
  {
   "cell_type": "code",
   "execution_count": 6,
   "id": "a4c3a453-95a7-4f7a-8aa1-32d08a76416f",
   "metadata": {},
   "outputs": [
    {
     "name": "stdout",
     "output_type": "stream",
     "text": [
      "<selenium.webdriver.remote.webelement.WebElement (session=\"b3ce9c23515f92968cf697f7fdea81dd\", element=\"f.BF1C6CF5BCC82F2B95C98AD3CF8633D9.d.29E14369E27A7B4C7E9EDAB8F20ED7C5.e.595\")>\n"
     ]
    }
   ],
   "source": [
    "# 섹션 안의 표 데이터 찾기\n",
    "\n",
    "from selenium.webdriver.support.ui import WebDriverWait\n",
    "from selenium.webdriver.support import expected_conditions as EC\n",
    "from selenium.webdriver.common.by import By\n",
    "\n",
    "\n",
    "\n",
    "# 테이블 로드 대기\n",
    "#table = WebDriverWait(driver, 10).until(\n",
    "#    EC.presence_of_element_located((By.CSS_SELECTOR, \"section.css-1g6h5ls table.tg\"))\n",
    "#)\n",
    "\n",
    "# section 내의 table 요소 찾기\n",
    "table = driver.find_element(By.CSS_SELECTOR, \"section.css-1g6h5ls table.tg\")\n",
    "\n",
    "# 테이블의 모든 행(tr) 찾기\n",
    "rows = table.find_elements(By.TAG_NAME, \"tr\")\n",
    "\n",
    "print(table)"
   ]
  },
  {
   "cell_type": "code",
   "execution_count": 10,
   "id": "85204e16-4703-4223-a61e-c0bd39baaa4f",
   "metadata": {},
   "outputs": [
    {
     "name": "stdout",
     "output_type": "stream",
     "text": [
      "    순서     선수 포지션      전체팀 경기수  세트수    공격  블로킹  서브    득점\n",
      "0    1     모마  OP     현대건설  45  180  1046   67  38  1151\n",
      "1    2     실바  OP    GS칼텍스  41  149  1018   53  56  1127\n",
      "2    3   부키리치  OP      정관장  42  166   975   51  35  1061\n",
      "3    4    김연경  OH     흥국생명  48  189   931   65  37  1033\n",
      "4    5     메가  OP      정관장  44  168   836   69  38   943\n",
      "5    6  아베크롬비  OP  IBK기업은행  36  140   847   63  32   942\n",
      "6    7    야스민  OP   페퍼저축은행  34  132   746   58  23   827\n",
      "7    8     지아  OH      정관장  37  140   716   21  26   763\n",
      "8    9    양효진  MB     현대건설  45  180   526  137  14   677\n",
      "9   10    박정아  OH   페퍼저축은행  42  159   488   50  18   556\n",
      "10  11    강소휘  OH   한국도로공사  41  151   487   35  18   540\n",
      "11  12    표승주  OH      정관장  41  160   448   33  21   502\n",
      "12  13    옐레나  OP     흥국생명  24   96   457   21  23   501\n",
      "13  14    레이나  OH     흥국생명  41  155   445   38  13   496\n",
      "14  15    배유나  MB   한국도로공사  42  164   339   81  28   448\n",
      "15  16    위파위  OH     현대건설  41  159   353   31  14   398\n",
      "16  17    황민경  OH  IBK기업은행  42  161   323   22  34   379\n",
      "17  18    정호영  MB      정관장  42  158   261   97  16   374\n",
      "18  19    이다현  MB     현대건설  45  179   244  103  20   367\n",
      "19  20    타나차  OP   한국도로공사  36  128   324   24  17   365\n",
      "20  21    정지윤  OH     현대건설  40  154   299   48  16   363\n",
      "21  22    윌로우  OP     흥국생명  17   64   308   13  19   340\n",
      "22  23    최정민  MB  IBK기업은행  42  163   190  129  14   333\n",
      "23  24    이한비  OH   페퍼저축은행  41  137   292   10   8   310\n",
      "24  25    이주아  MB  IBK기업은행  46  176   158   97  25   280\n",
      "25  26    박은진  MB      정관장  44  168   184   88   6   278\n",
      "26  27    필립스  MB   페퍼저축은행  35  133   184   67   5   256\n",
      "27  28    유서연  OH    GS칼텍스  34  109   210   11  14   235\n",
      "28  29    육서영  OH  IBK기업은행  41  102   196   18   6   220\n",
      "29  30    김수지  MB     흥국생명  46  170   101   80  34   215\n"
     ]
    }
   ],
   "source": [
    "# 테이블 행을 기다림\n",
    "rows = WebDriverWait(driver, 10).until(\n",
    "    EC.presence_of_all_elements_located((By.TAG_NAME, \"tr\"))\n",
    ")\n",
    "\n",
    "# 테이블 데이터 추출\n",
    "thead = []\n",
    "data = []\n",
    "for row in rows:\n",
    "    th_cols = row.find_elements(By.TAG_NAME, \"th\") # 테이블 헤더(th)\n",
    "    cols = row.find_elements(By.TAG_NAME, \"td\")  # 테이블 데이터 (td)\n",
    "    thead.append([col.text for col in th_cols])\n",
    "    data.append([col.text for col in cols])\n",
    "\n",
    "# 테이블에서 첫 번째 행을 컬럼으로 사용 (헤더가 있다면 첫 번째 행을 헤더로 사용)\n",
    "if data:\n",
    "    #columns = data[0]  # 첫 번째 행을 컬럼으로 사용\n",
    "    data = data[1:]  # 나머지 데이터를 본문으로 사용\n",
    "\n",
    "columns = thead[0]\n",
    "\n",
    "# 컬럼 이름과 데이터가 제대로 설정되었는지 확인\n",
    "#print(\"Columns:\", columns)\n",
    "#print(\"Data:\", data)\n",
    "\n",
    "\n",
    "# DataFrame 생성 시 columns를 리스트로 사용\n",
    "df = pd.DataFrame(data, columns=columns)\n",
    "\n",
    "# 출력\n",
    "print(df)\n"
   ]
  },
  {
   "cell_type": "code",
   "execution_count": null,
   "id": "f6f42d72-2ef0-4d5e-89a2-639b1639800a",
   "metadata": {},
   "outputs": [],
   "source": [
    "import pandas as pd\n",
    "import matplotlib.pyplot as plt\n",
    "from sklearn.preprocessing import LabelEncoder\n",
    "from sklearn.neighbors import KNeighborsClassifier"
   ]
  },
  {
   "cell_type": "code",
   "execution_count": null,
   "id": "44631756-a723-4c60-b05d-cc7b07c58888",
   "metadata": {},
   "outputs": [],
   "source": []
  }
 ],
 "metadata": {
  "kernelspec": {
   "display_name": "Python 3 (ipykernel)",
   "language": "python",
   "name": "python3"
  },
  "language_info": {
   "codemirror_mode": {
    "name": "ipython",
    "version": 3
   },
   "file_extension": ".py",
   "mimetype": "text/x-python",
   "name": "python",
   "nbconvert_exporter": "python",
   "pygments_lexer": "ipython3",
   "version": "3.12.4"
  }
 },
 "nbformat": 4,
 "nbformat_minor": 5
}
